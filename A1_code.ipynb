{
 "cells": [
  {
   "cell_type": "markdown",
   "metadata": {},
   "source": [
    "# Context-sensitive Spelling Correction\n",
    "\n",
    "The goal of the assignment is to implement context-sensitive spelling correction. The input of the code will be a set of text lines and the output will be the same lines with spelling mistakes fixed.\n",
    "\n",
    "Submit the solution of the assignment to Moodle as a link to your GitHub repository containing this notebook.\n",
    "\n",
    "Useful links:\n",
    "- [Norvig's solution](https://norvig.com/spell-correct.html)\n",
    "- [Norvig's dataset](https://norvig.com/big.txt)\n",
    "- [Ngrams data](https://www.ngrams.info/download_coca.asp)\n",
    "\n",
    "Grading:\n",
    "- 60 points - Implement spelling correction\n",
    "- 20 points - Justify your decisions\n",
    "- 20 points - Evaluate on a test set"
   ]
  },
  {
   "cell_type": "markdown",
   "metadata": {},
   "source": [
    "## Implement context-sensitive spelling correction\n",
    "\n",
    "Your task is to implement context-sensitive spelling corrector using N-gram language model. The idea is to compute conditional probabilities of possible correction options. For example, the phrase \"dking sport\" should be fixed as \"doing sport\" not \"dying sport\", while \"dking species\" -- as \"dying species\".\n",
    "\n",
    "The best way to start is to analyze [Norvig's solution](https://norvig.com/spell-correct.html) and [N-gram Language Models](https://web.stanford.edu/~jurafsky/slp3/3.pdf).\n",
    "\n",
    "When solving this task, we expect you'll face (and successfully deal with) some problems or make up the ideas of the model improvement. Some of them are: \n",
    "\n",
    "- solving a problem of n-grams frequencies storing for a large corpus;\n",
    "- taking into account keyboard layout and associated misspellings;\n",
    "- efficiency improvement to make the solution faster;\n",
    "- ...\n",
    "\n",
    "Please don't forget to describe such cases, and what you decided to do with them, in the Justification section.\n",
    "\n",
    "##### IMPORTANT:  \n",
    "Your project should not be a mere code copy-paste from somewhere. You must provide:\n",
    "- Your implementation\n",
    "- Analysis of why the implemented approach is suggested\n",
    "- Improvements of the original approach that you have chosen to implement"
   ]
  },
  {
   "cell_type": "code",
   "execution_count": 262,
   "metadata": {},
   "outputs": [],
   "source": [
    "import re\n",
    "from collections import defaultdict, Counter"
   ]
  },
  {
   "cell_type": "markdown",
   "metadata": {},
   "source": [
    "## Classical Norvig's solution"
   ]
  },
  {
   "cell_type": "markdown",
   "metadata": {},
   "source": [
    "### Loading the Text Corpus\n",
    "To build a language model, we need a large text corpus. \n",
    "\n",
    "The script downloads a large text file from `norvig.com`, processes it, and constructs a dictionary of words and their frequencies.\n"
   ]
  },
  {
   "cell_type": "code",
   "execution_count": 263,
   "metadata": {},
   "outputs": [],
   "source": [
    "import requests\n",
    "\n",
    "url = \"https://norvig.com/big.txt\"\n",
    "r = requests.get(url)\n",
    "r.raise_for_status()"
   ]
  },
  {
   "cell_type": "code",
   "execution_count": 264,
   "metadata": {},
   "outputs": [],
   "source": [
    "def read_corpus(file_path):\n",
    "    with open(file_path, 'r', encoding='utf-8') as f:\n",
    "        text = f.read()\n",
    "    return text\n",
    "\n",
    "big_text = read_corpus('big.txt')"
   ]
  },
  {
   "cell_type": "markdown",
   "metadata": {},
   "source": [
    "### Processing the Corpus\n",
    "The text is converted into lowercase and tokenized into words using regular expressions. \n",
    "\n",
    "A `Counter` object is used to store word frequencies, which helps in determining word probabilities.\n"
   ]
  },
  {
   "cell_type": "markdown",
   "metadata": {},
   "source": [
    "### Building a Probability Model for Words\n",
    "The probability of a word appearing in the corpus is calculated as:\n",
    "\n",
    "$P(w) = \\frac{\\text{count of } w}{\\text{total words in corpus}}$\n",
    "\n",
    "This helps in ranking candidate words based on their likelihood in real-world usage.\n"
   ]
  },
  {
   "cell_type": "code",
   "execution_count": 265,
   "metadata": {},
   "outputs": [],
   "source": [
    "def words(text):\n",
    "    return re.findall(r'[a-z]+', text.lower())\n",
    "\n",
    "WORDS = Counter(words(big_text)) \n",
    "N = sum(WORDS.values())\n",
    "\n",
    "def P(word):\n",
    "    return WORDS[word] / N"
   ]
  },
  {
   "cell_type": "markdown",
   "metadata": {},
   "source": [
    "### Generating Possible Word Corrections\n",
    "A series of functions are implemented to generate possible corrections for a given word:\n",
    "- **Edits1:** Generates words that are one edit away (deletion, transposition, replacement, insertion).\n",
    "- **Edits2:** Generates words that are two edits away.\n",
    "- **Known Words Filter:** Filters only valid words found in the corpus.\n",
    "- **Candidates Selection:** Chooses the best correction based on probability.\n"
   ]
  },
  {
   "cell_type": "markdown",
   "metadata": {},
   "source": [
    "### Implementing the Spelling Correction Function\n",
    "The `correct_word` function takes a misspelled word and returns the most probable correction. It works by:\n",
    "1. Checking if the word itself is known.\n",
    "2. Checking for words that are one edit away.\n",
    "3. Checking for words that are two edits away.\n",
    "4. Returning the most probable word.\n"
   ]
  },
  {
   "cell_type": "code",
   "execution_count": 266,
   "metadata": {},
   "outputs": [],
   "source": [
    "def edits1(word):\n",
    "    letters = 'abcdefghijklmnopqrstuvwxyz'\n",
    "    splits     = [(word[:i], word[i:]) for i in range(len(word) + 1)]\n",
    "    deletes    = [L + R[1:]               for L, R in splits if R]\n",
    "    transposes = [L + R[1] + R[0] + R[2:] for L, R in splits if len(R)>1]\n",
    "    replaces   = [L + c + R[1:]           for L, R in splits if R for c in letters]\n",
    "    inserts    = [L + c + R               for L, R in splits for c in letters]\n",
    "    return set(deletes + transposes + replaces + inserts)\n",
    "\n",
    "def edits2(word):\n",
    "    return (e2 for e1 in edits1(word) for e2 in edits1(e1))\n",
    "\n",
    "def known(words_list):\n",
    "    return set(w for w in words_list if w in WORDS)\n",
    "\n",
    "def candidates(word):\n",
    "    return (known([word]) or known(edits1(word)) or known(edits2(word)) or {word})\n",
    "\n",
    "def correct_word(word):\n",
    "    return max(candidates(word), key=P) if candidates(word) else word"
   ]
  },
  {
   "cell_type": "markdown",
   "metadata": {},
   "source": [
    "### Loading the Evaluation Dataset\n",
    "The test dataset is loaded to evaluate the accuracy of the spell checker. The dataset consists of:\n",
    "- A column with correct text (`text`).\n",
    "- A column with augmented text containing spelling errors (`augmented_text`).\n"
   ]
  },
  {
   "cell_type": "code",
   "execution_count": 267,
   "metadata": {},
   "outputs": [
    {
     "data": {
      "text/html": [
       "<div>\n",
       "<style scoped>\n",
       "    .dataframe tbody tr th:only-of-type {\n",
       "        vertical-align: middle;\n",
       "    }\n",
       "\n",
       "    .dataframe tbody tr th {\n",
       "        vertical-align: top;\n",
       "    }\n",
       "\n",
       "    .dataframe thead th {\n",
       "        text-align: right;\n",
       "    }\n",
       "</style>\n",
       "<table border=\"1\" class=\"dataframe\">\n",
       "  <thead>\n",
       "    <tr style=\"text-align: right;\">\n",
       "      <th></th>\n",
       "      <th>text</th>\n",
       "      <th>augmented_text</th>\n",
       "    </tr>\n",
       "  </thead>\n",
       "  <tbody>\n",
       "    <tr>\n",
       "      <th>0</th>\n",
       "      <td>project looks to mulesing genetic alternative</td>\n",
       "      <td>project looks to muelsnig ngeetic alternative</td>\n",
       "    </tr>\n",
       "    <tr>\n",
       "      <th>1</th>\n",
       "      <td>chemical agents used during protest at port au...</td>\n",
       "      <td>chemical agents used during LrotWst at port ah...</td>\n",
       "    </tr>\n",
       "    <tr>\n",
       "      <th>2</th>\n",
       "      <td>business chamber seeks budget infrastructure b...</td>\n",
       "      <td>business hcmaber seeks budget infrastrcutuer b...</td>\n",
       "    </tr>\n",
       "    <tr>\n",
       "      <th>3</th>\n",
       "      <td>3600 trips made to darwin tip after cyclone</td>\n",
       "      <td>3600 trips made to adrwni tip after cyconle</td>\n",
       "    </tr>\n",
       "    <tr>\n",
       "      <th>4</th>\n",
       "      <td>go between bridge to open july 5</td>\n",
       "      <td>go net3een brisye to lprn july 5</td>\n",
       "    </tr>\n",
       "  </tbody>\n",
       "</table>\n",
       "</div>"
      ],
      "text/plain": [
       "                                                text  \\\n",
       "0      project looks to mulesing genetic alternative   \n",
       "1  chemical agents used during protest at port au...   \n",
       "2  business chamber seeks budget infrastructure b...   \n",
       "3        3600 trips made to darwin tip after cyclone   \n",
       "4                   go between bridge to open july 5   \n",
       "\n",
       "                                      augmented_text  \n",
       "0      project looks to muelsnig ngeetic alternative  \n",
       "1  chemical agents used during LrotWst at port ah...  \n",
       "2  business hcmaber seeks budget infrastrcutuer b...  \n",
       "3        3600 trips made to adrwni tip after cyconle  \n",
       "4                   go net3een brisye to lprn july 5  "
      ]
     },
     "execution_count": 267,
     "metadata": {},
     "output_type": "execute_result"
    }
   ],
   "source": [
    "import pandas as pd\n",
    "\n",
    "evaluation_data = pd.read_csv('test.csv')\n",
    "\n",
    "evaluation_data.head()"
   ]
  },
  {
   "cell_type": "markdown",
   "metadata": {},
   "source": [
    "### Defining Evaluation Parameters\n",
    "The variable `SLICE_SIZE` is set to 10,000, which controls the number of samples from the dataset that will be used for evaluation.\n"
   ]
  },
  {
   "cell_type": "code",
   "execution_count": 268,
   "metadata": {},
   "outputs": [],
   "source": [
    "SLICE_SIZE = 10000"
   ]
  },
  {
   "cell_type": "markdown",
   "metadata": {},
   "source": [
    "### Evaluating the Spell Checker\n",
    "The `evaluate_baseline` function runs the spell checker on a sample of `SLICE_SIZE` entries from the dataset.\n",
    "\n",
    "The workflow includes:\n",
    "- Iterating through each row of test data.\n",
    "- Applying the `correct_word` function to each token in the augmented text.\n",
    "- Calculating the Word Error Rate (WER) by comparing the corrected text with the reference text.\n",
    "- Computing the accuracy as `1 - WER` and averaging it over all test samples.\n"
   ]
  },
  {
   "cell_type": "code",
   "execution_count": null,
   "metadata": {},
   "outputs": [
    {
     "name": "stderr",
     "output_type": "stream",
     "text": [
      "Norvig baseline evaluation: 100%|██████████| 10000/10000 [20:27<00:00,  8.15it/s]"
     ]
    },
    {
     "name": "stdout",
     "output_type": "stream",
     "text": [
      "Average Accuracy with Norvig baseline: 0.702366524031524\n"
     ]
    },
    {
     "name": "stderr",
     "output_type": "stream",
     "text": [
      "\n"
     ]
    },
    {
     "data": {
      "text/plain": [
       "0.702366524031524"
      ]
     },
     "execution_count": 269,
     "metadata": {},
     "output_type": "execute_result"
    }
   ],
   "source": [
    "import pandas as pd\n",
    "from jiwer import wer\n",
    "from tqdm import tqdm\n",
    "\n",
    "\n",
    "def evaluate_baseline(slice_size):\n",
    "\n",
    "    evaluation_data = pd.read_csv('data/test.csv')\n",
    "    data = evaluation_data.head(slice_size)\n",
    "\n",
    "    norvig_scores = []\n",
    "    for idx, row in tqdm(data.iterrows(), desc=\"Norvig baseline evaluation\", total=len(data)):\n",
    "        ref = row[\"text\"]  \n",
    "        tokens = row[\"augmented_text\"].split()\n",
    "        \n",
    "        corrected_tokens = [correct_word(t) for t in tokens]\n",
    "        \n",
    "        hyp = \" \".join(corrected_tokens)\n",
    "        \n",
    "        score = wer(ref, hyp)\n",
    "        acc = 1 - score\n",
    "        norvig_scores.append(acc)\n",
    "\n",
    "    overall_acc_norvig = sum(norvig_scores)/len(norvig_scores)\n",
    "    print(\"Average Accuracy with Norvig baseline:\", overall_acc_norvig)\n",
    "\n",
    "    return overall_acc_norvig\n",
    "evaluate_baseline(slice_size = SLICE_SIZE)"
   ]
  },
  {
   "cell_type": "markdown",
   "metadata": {},
   "source": [
    "### Norvig's Original Solution: Conclusion\n",
    "\n",
    "The spell checker based on Norvig’s approach is **reasonably accurate**: `70.2%`, but there is still **room for improvement** in both performance and accuracy.\n",
    "\n",
    "However, one major drawback is its **speed**—it processes an average of **8 rows per second**, which is relatively slow for large datasets.\n",
    "\n",
    "### Next Steps: Enhancing the Model\n",
    "\n",
    "To improve accuracy and efficiency, we will implement the following enhancements:\n",
    "\n",
    "- **N-gram Models (up to 5-grams):** Introducing context-aware corrections by considering word sequences rather than isolated words.\n",
    "- **Add-One Smoothing:** Ensuring better probability estimates for unseen n-grams.\n",
    "- **Beam Search:** Using a probabilistic search strategy to improve sentence-level corrections.\n",
    "\n",
    "These optimizations will provide more **contextually accurate** and **faster** corrections.\n",
    "\n"
   ]
  },
  {
   "cell_type": "markdown",
   "metadata": {},
   "source": [
    "## Context sensitive error check with N-gram models and Add-One smoothing"
   ]
  },
  {
   "cell_type": "markdown",
   "metadata": {},
   "source": [
    "### Building N-gram Language Models\n",
    "The function `build_ngram_counts` constructs frequency distributions for n-grams (sequences of `n` words).\n",
    "\n",
    "N-grams are useful for context-aware spelling correction, as they allow us to consider not just individual words but also their surrounding context.\n"
   ]
  },
  {
   "cell_type": "code",
   "execution_count": 270,
   "metadata": {},
   "outputs": [],
   "source": [
    "def build_ngram_counts(token_list, n=2):\n",
    "    \"\"\"\n",
    "    Build n-gram counts for a given n.\n",
    "    Returns a Counter mapping from an n-tuple to a frequency count.\n",
    "    \"\"\"\n",
    "    ngrams = []\n",
    "    for i in range(len(token_list) - n + 1):\n",
    "        ngram = tuple(token_list[i:i+n])\n",
    "        ngrams.append(ngram)\n",
    "    return Counter(ngrams)"
   ]
  },
  {
   "cell_type": "code",
   "execution_count": 271,
   "metadata": {},
   "outputs": [],
   "source": [
    "import sys\n",
    "from collections import Counter\n",
    "\n",
    "\n",
    "bigram_counts = Counter()   # (w1, w2) -> frequency\n",
    "trigram_counts = Counter()  # (w1, w2, w3) -> frequency\n",
    "fourgram_counts = Counter() # (w1, w2, w3, w4) -> frequency\n",
    "fivegram_counts = Counter() # (w1, w2, w3, w4, w5) -> frequency\n",
    "\n",
    "def load_bigrams(file_path):\n",
    "    \"\"\"\n",
    "    Reads a file of bigrams in the format:\n",
    "      <freq> <word1> <word2>\n",
    "    Updates bigram_counts and WORDS with new frequencies.\n",
    "    \"\"\"\n",
    "    with open(file_path, 'r', encoding='latin-1') as f:\n",
    "        for line in f:\n",
    "            parts = line.strip().split()\n",
    "            if len(parts) != 3:\n",
    "                continue\n",
    "            freq_str, w1, w2 = parts\n",
    "            try:\n",
    "                freq = int(freq_str)\n",
    "            except ValueError:\n",
    "                continue\n",
    "            \n",
    "            bigram_counts[(w1, w2)] += freq\n",
    "            \n",
    "            WORDS[w1] += freq\n",
    "            WORDS[w2] += freq\n",
    "\n",
    "def load_trigrams(file_path):\n",
    "    \"\"\"\n",
    "    Reads a file of trigrams in the format:\n",
    "      <freq> <word1> <word2> <word3>\n",
    "    Updates trigram_counts and WORDS with new frequencies.\n",
    "    \"\"\"\n",
    "    with open(file_path, 'r', encoding='utf-8') as f:\n",
    "        for line in f:\n",
    "            parts = line.strip().split()\n",
    "            if len(parts) != 4:\n",
    "                continue\n",
    "            \n",
    "            freq_str, w1, w2, w3 = parts\n",
    "            try:\n",
    "                freq = int(freq_str)\n",
    "            except ValueError:\n",
    "                continue\n",
    "            \n",
    "            trigram_counts[(w1, w2, w3)] += freq\n",
    "            \n",
    "            WORDS[w1] += freq\n",
    "            WORDS[w2] += freq\n",
    "            WORDS[w3] += freq\n",
    "\n",
    "def load_fourgrams(file_path):\n",
    "    \"\"\"\n",
    "    Reads a file of four-grams in the format:\n",
    "      <freq> <w1> <w2> <w3> <w4>\n",
    "    Updates fourgram_counts and WORDS with new frequencies.\n",
    "    \"\"\"\n",
    "    with open(file_path, 'r', encoding='utf-8') as f:\n",
    "        for line in f:\n",
    "            parts = line.strip().split()\n",
    "            if len(parts) != 5:\n",
    "                continue\n",
    "            \n",
    "            freq_str, w1, w2, w3, w4 = parts\n",
    "            try:\n",
    "                freq = int(freq_str)\n",
    "            except ValueError:\n",
    "                continue\n",
    "            \n",
    "            fourgram_counts[(w1, w2, w3, w4)] += freq\n",
    "            \n",
    "            WORDS[w1] += freq\n",
    "            WORDS[w2] += freq\n",
    "            WORDS[w3] += freq\n",
    "            WORDS[w4] += freq\n",
    "\n",
    "\n",
    "def load_fivegrams(file_path):\n",
    "    \"\"\"\n",
    "    Reads a file of 5-grams in the format:\n",
    "      <freq> <w1> <w2> <w3> <w4> <w5>\n",
    "    Updates fivegram_counts and WORDS with new frequencies.\n",
    "    \"\"\"\n",
    "    with open(file_path, 'r', encoding='latin-1') as f:\n",
    "        for line in f:\n",
    "            parts = line.strip().split()\n",
    "            if len(parts) != 6:\n",
    "                continue\n",
    "            freq_str, w1, w2, w3, w4, w5 = parts\n",
    "            try:\n",
    "                freq = int(freq_str)\n",
    "            except ValueError:\n",
    "                continue\n",
    "            \n",
    "            fivegram_counts[(w1, w2, w3, w4, w5)] += freq\n",
    "            \n",
    "            WORDS[w1] += freq\n",
    "            WORDS[w2] += freq\n",
    "            WORDS[w3] += freq\n",
    "            WORDS[w4] += freq\n",
    "            WORDS[w5] += freq"
   ]
  },
  {
   "cell_type": "markdown",
   "metadata": {},
   "source": [
    "Here we will precomupe prefix counts to get them in `O(1)` instead of `O(n)` every time we compute probabilities."
   ]
  },
  {
   "cell_type": "code",
   "execution_count": 272,
   "metadata": {},
   "outputs": [],
   "source": [
    "from tqdm import tqdm\n",
    "\n",
    "def build_prefix_counts(ngram_counts, order):\n",
    "    \"\"\"\n",
    "    For n-grams of length 'order', build a dictionary that maps\n",
    "    the (order-1)-tuple prefix to the sum of counts of all n-grams\n",
    "    sharing that prefix.\n",
    "\n",
    "    Uses tqdm to display a progress bar.\n",
    "    \"\"\"\n",
    "    prefix_sum = defaultdict(int)\n",
    "\n",
    "    for ngram, count in tqdm(ngram_counts.items(), \n",
    "                             desc=f\"Building prefix counts for {order}-grams\", \n",
    "                             total=len(ngram_counts)):\n",
    "        prefix = ngram[:-1]\n",
    "        prefix_sum[prefix] += count\n",
    "\n",
    "    return prefix_sum"
   ]
  },
  {
   "cell_type": "markdown",
   "metadata": {},
   "source": [
    "### Computing and Loading N-gram Frequencies\n",
    "- The dataset is processed to extract unigrams, bigrams, trigrams, four-grams, and five-grams.\n",
    "- Pretrained frequency distributions from external text files are loaded.\n",
    "- Prefix counts are constructed for each type of n-gram.\n",
    "\n",
    "These computations enable a more robust probability-based spelling correction system.\n"
   ]
  },
  {
   "cell_type": "code",
   "execution_count": 273,
   "metadata": {},
   "outputs": [
    {
     "name": "stderr",
     "output_type": "stream",
     "text": [
      "Building prefix counts for 2-grams: 100%|██████████| 1246408/1246408 [00:00<00:00, 4525352.62it/s]\n",
      "Building prefix counts for 3-grams: 100%|██████████| 863460/863460 [00:00<00:00, 3095015.43it/s]\n",
      "Building prefix counts for 4-grams: 100%|██████████| 1070206/1070206 [00:00<00:00, 3187290.31it/s]\n",
      "Building prefix counts for 5-grams: 100%|██████████| 2128531/2128531 [00:00<00:00, 3554618.86it/s]\n"
     ]
    }
   ],
   "source": [
    "all_tokens = words(big_text)\n",
    "bigram_counts = build_ngram_counts(all_tokens, n=2)\n",
    "trigram_counts = build_ngram_counts(all_tokens, n=3)\n",
    "fourgram_counts = build_ngram_counts(all_tokens, n=4)\n",
    "fivegram_counts = build_ngram_counts(all_tokens, n=5)\n",
    "\n",
    "load_bigrams(\"data/bigrams.txt\")\n",
    "load_bigrams(\"data/coca_ngrams_x2w.txt\")\n",
    "load_trigrams(\"data/coca_ngrams_x3w.txt\")\n",
    "load_fourgrams(\"data/coca_ngrams_x4w.txt\")\n",
    "load_fivegrams(\"data/fivegrams.txt\")\n",
    "load_fivegrams(\"data/coca_ngrams_x5w.txt\")\n",
    "\n",
    "unigram_counts = WORDS\n",
    "\n",
    "prefix_count_2 = build_prefix_counts(bigram_counts, order=2)\n",
    "prefix_count_3 = build_prefix_counts(trigram_counts, order=3)\n",
    "prefix_count_4 = build_prefix_counts(fourgram_counts, order=4)\n",
    "prefix_count_5 = build_prefix_counts(fivegram_counts, order=5)\n",
    "\n",
    "N = sum(WORDS.values())\n",
    "V = len(WORDS)"
   ]
  },
  {
   "cell_type": "markdown",
   "metadata": {},
   "source": [
    "### Calculating probabilities of N-grams with Add-One smoothing:\n",
    "- Unigram: $P(w) = \\frac{\\text{count}(w) + 1}{\\sum \\text{count}(w) + V}$\n",
    "- Bigram: $P(w_2 | w_1) = \\frac{\\text{count}(w_1, w_2) + 1}{\\text{count}(w_1) + V}$\n",
    "- Trigram: $P(w_3 | w_1, w_2) = \\frac{\\text{count}(w_1, w_2, w_3) + 1}{\\text{count}(w_1, w_2) + V}$\n",
    "- Fourgram: $P(w_4 | w_1, w_2, w_3) = \\frac{\\text{count}(w_1, w_2, w_3, w_4) + 1}{\\text{count}(w_1, w_2, w_3) + V}$\n",
    "- Fivegram: $P(w_5 | w_1, w_2, w_3, w_4) = \\frac{\\text{count}(w_1, w_2, w_3, w_4, w_5) + 1}{\\text{count}(w_1, w_2, w_3, w_4) + V}$"
   ]
  },
  {
   "cell_type": "code",
   "execution_count": 274,
   "metadata": {},
   "outputs": [],
   "source": [
    "def unigram_prob_add_one(w):\n",
    "    \"\"\"\n",
    "    Returns the Laplace-smoothed probability of a word w.\n",
    "    \"\"\"\n",
    "    numerator   = unigram_counts[(w,)] + 1\n",
    "    denominator = sum(unigram_counts.values()) + V\n",
    "    return numerator / denominator"
   ]
  },
  {
   "cell_type": "code",
   "execution_count": 275,
   "metadata": {},
   "outputs": [],
   "source": [
    "def bigram_prob_add_one(w1, w2):\n",
    "    \"\"\"\n",
    "    Returns the Laplace-smoothed probability for bigram (w1, w2).\n",
    "    \"\"\"\n",
    "    bigram = (w1, w2)\n",
    "    prefix = (w1,)  \n",
    "\n",
    "    numerator   = bigram_counts[bigram] + 1\n",
    "    denominator = prefix_count_2[prefix] + V \n",
    "    return numerator / denominator"
   ]
  },
  {
   "cell_type": "code",
   "execution_count": 276,
   "metadata": {},
   "outputs": [],
   "source": [
    "def trigram_prob_add_one(w1, w2, w3):\n",
    "    \"\"\"\n",
    "    Returns the Laplace-smoothed probability for trigram (w1, w2, w3).\n",
    "    \"\"\"\n",
    "    trigram = (w1, w2, w3)\n",
    "    prefix = (w1, w2)\n",
    "\n",
    "    numerator   = trigram_counts[trigram] + 1\n",
    "    denominator = prefix_count_3[prefix] + V\n",
    "    return numerator / denominator"
   ]
  },
  {
   "cell_type": "code",
   "execution_count": 277,
   "metadata": {},
   "outputs": [],
   "source": [
    "def fourgram_prob_add_one(w1, w2, w3, w4):\n",
    "    \"\"\"\n",
    "    Returns the Laplace-smoothed probability for fourgram (w1, w2, w3, w4).\n",
    "    \"\"\"\n",
    "    fourgram = (w1, w2, w3, w4)\n",
    "    prefix = (w1, w2, w3)\n",
    "\n",
    "    numerator   = fourgram_counts[fourgram] + 1\n",
    "    denominator = prefix_count_4[prefix] + V\n",
    "    return numerator / denominator"
   ]
  },
  {
   "cell_type": "code",
   "execution_count": 278,
   "metadata": {},
   "outputs": [],
   "source": [
    "def fivegram_prob_add_one(w1, w2, w3, w4, w5):\n",
    "    \"\"\"\n",
    "    Returns the Laplace-smoothed probability for fivegram (w1, w2, w3, w4, w5).\n",
    "    \"\"\"\n",
    "    fivegram = (w1, w2, w3, w4, w5)\n",
    "    prefix = (w1, w2, w3, w4)\n",
    "\n",
    "    numerator   = fivegram_counts[fivegram] + 1\n",
    "    denominator = prefix_count_5[prefix] + V\n",
    "    return numerator / denominator"
   ]
  },
  {
   "cell_type": "markdown",
   "metadata": {},
   "source": [
    "### Generalized N-gram Probability Function\n",
    "The `ngram_prob_add_one` function dynamically computes probabilities for up to 5-grams.\n",
    "\n",
    "Depending on the length of the context (previous words), it applies the appropriate probability function:\n",
    "- If no context: Unigram probability.\n",
    "- If one previous word: Bigram probability.\n",
    "- If two previous words: Trigram probability.\n",
    "- If three previous words: Four-gram probability.\n",
    "- If four previous words: Five-gram probability."
   ]
  },
  {
   "cell_type": "code",
   "execution_count": 279,
   "metadata": {},
   "outputs": [],
   "source": [
    "import math\n",
    "\n",
    "def ngram_prob_add_one(context, word):\n",
    "    \"\"\"\n",
    "    Given a tuple 'context' (of length n-1, up to 4) and a 'word', \n",
    "    return Laplace-smoothed P(word | context).\n",
    "    \n",
    "    context: tuple of length 0..4 for up to 5-gram.\n",
    "    word: the next word string.\n",
    "    \"\"\"\n",
    "    n = len(context) + 1 \n",
    "    \n",
    "    if n == 1:\n",
    "        return unigram_prob_add_one(word)\n",
    "    \n",
    "    elif n == 2:\n",
    "        w1 = context[0]\n",
    "        return bigram_prob_add_one(w1, word)\n",
    "    \n",
    "    elif n == 3:\n",
    "        w1, w2 = context\n",
    "        return trigram_prob_add_one(w1, w2, word)\n",
    "    \n",
    "    elif n == 4:\n",
    "        w1, w2, w3 = context\n",
    "        return fourgram_prob_add_one(w1, w2, w3, word)\n",
    "    \n",
    "    elif n == 5:\n",
    "        w1, w2, w3, w4 = context\n",
    "        return fivegram_prob_add_one(w1, w2, w3, w4, word)\n",
    "    \n",
    "    else:\n",
    "        return 1.0 / V  \n"
   ]
  },
  {
   "cell_type": "markdown",
   "metadata": {},
   "source": [
    "### Beam Search for Spelling Correction\n",
    "A **beam search algorithm** is implemented to find the most probable sequence of words. This method:\n",
    "- Keeps track of `beam_size` best possible sequences at each step.\n",
    "- Generates alternative corrections only if a word is out-of-vocabulary (OOV).\n",
    "- Uses **n-gram probabilities** to select the most likely correction sequence.\n",
    "- Returns the most probable corrected sentence.\n",
    "\n",
    "This approach improves accuracy by leveraging contextual information over multiple words.\n"
   ]
  },
  {
   "cell_type": "code",
   "execution_count": 280,
   "metadata": {},
   "outputs": [],
   "source": [
    "def beam_search_correct(token_list, beam_size=3):\n",
    "    \"\"\"\n",
    "    Beam search that only generates alternative candidate corrections\n",
    "    if the token is not in the vocabulary (OOV).\n",
    "    Otherwise, if it's in the vocabulary, we assume it's correct\n",
    "    and keep only that token as the sole candidate.\n",
    "    \"\"\"\n",
    "    candidate_lists = []\n",
    "    \n",
    "    for token in token_list:\n",
    "        if token in WORDS: \n",
    "            cands = [token]\n",
    "        else:\n",
    "            cands = candidates(token)  \n",
    "            if not cands:\n",
    "                cands = [token]\n",
    "        \n",
    "        candidate_lists.append(list(cands))\n",
    "    \n",
    "    beam = [(0.0, [])]\n",
    "    \n",
    "    for i, cands in enumerate(candidate_lists):\n",
    "        new_beam = []\n",
    "        for log_prob_so_far, seq in beam:\n",
    "            context = tuple(seq[-4:]) \n",
    "            for cand in cands:\n",
    "                p = ngram_prob_add_one(context, cand)\n",
    "                new_log_prob = math.log(p + 1e-15) + log_prob_so_far\n",
    "                new_seq = seq + [cand]\n",
    "                new_beam.append((new_log_prob, new_seq))\n",
    "        \n",
    "        new_beam.sort(key=lambda x: x[0], reverse=True)\n",
    "        beam = new_beam[:beam_size]\n",
    "    \n",
    "    best_seq = beam[0][1]\n",
    "    return best_seq\n"
   ]
  },
  {
   "cell_type": "markdown",
   "metadata": {},
   "source": [
    "### Evaluating the Beam Search Spell Checker\n",
    "The function `evaluate_solution(slice_size)` tests the beam search-based spell checker on a dataset.\n",
    "\n",
    "The evaluation process:\n",
    "- Reads a test dataset containing correct (`text`) and incorrect (`augmented_text`) sentences.\n",
    "- Applies `beam_search_correct` to each sentence.\n",
    "- Compares the output with the reference using **Word Error Rate (WER)**.\n",
    "- Computes the overall accuracy of the model.\n",
    "\n",
    "The final result indicates how well the beam search model performs in spelling correction.\n"
   ]
  },
  {
   "cell_type": "code",
   "execution_count": null,
   "metadata": {},
   "outputs": [
    {
     "name": "stderr",
     "output_type": "stream",
     "text": [
      "Beam search evaluation: 100%|██████████| 10000/10000 [09:37<00:00, 17.32it/s]"
     ]
    },
    {
     "name": "stdout",
     "output_type": "stream",
     "text": [
      "Average Accuracy over dataset: 0.7324760128760129\n"
     ]
    },
    {
     "name": "stderr",
     "output_type": "stream",
     "text": [
      "\n"
     ]
    },
    {
     "data": {
      "text/plain": [
       "0.7324760128760129"
      ]
     },
     "execution_count": 281,
     "metadata": {},
     "output_type": "execute_result"
    }
   ],
   "source": [
    "import pandas as pd\n",
    "from jiwer import wer  \n",
    "\n",
    "def evaluate_solution(slice_size):\n",
    "\n",
    "    evaluation_data = pd.read_csv('data/test.csv')\n",
    "    data = evaluation_data.head(slice_size)\n",
    "    scores = []\n",
    "    for idx, row in tqdm(data.iterrows(), desc= \"Beam search evaluation\", total=len(data)):\n",
    "        ref = row[\"text\"].lower()\n",
    "        hyp = ' '.join(beam_search_correct(row['augmented_text'].lower().split(), beam_size=20))\n",
    "        score = wer(ref, hyp) \n",
    "        acc = 1 - score\n",
    "        scores.append(acc)\n",
    "\n",
    "\n",
    "    overall_acc = sum(scores)/len(scores)\n",
    "    print(\"Average Accuracy over dataset:\", overall_acc)\n",
    "    return overall_acc\n",
    "\n",
    "evaluate_solution(slice_size=SLICE_SIZE)"
   ]
  },
  {
   "cell_type": "markdown",
   "metadata": {},
   "source": [
    "### Conclusion:\n",
    "Our approach achieved a **3% improvement in accuracy**, which is a positive step forward. While this is a good result, we aim to further enhance performance.\n",
    "\n",
    "Additionally, the new solution is **twice as fast** as the baseline, processing an average of **~17 rows per second**.\n",
    "\n",
    "### Next Steps:\n",
    "To further improve accuracy, we will:\n",
    "- Introduce **interpolation** to compute probabilities more effectively.\n",
    "- Implement **Kneser-Ney smoothing** to refine our probability estimates and enhance word prediction accuracy.\n"
   ]
  },
  {
   "cell_type": "markdown",
   "metadata": {},
   "source": [
    "## N-gram models with Interpolation and Kneser-Ney smoothing"
   ]
  },
  {
   "cell_type": "markdown",
   "metadata": {},
   "source": [
    "### Kneser-Ney Smoothing for Bigrams\n",
    "The notebook implements **Kneser-Ney smoothing**, an advanced probability estimation technique for n-grams. It improves traditional models by considering word context in a more meaningful way.\n",
    "\n",
    "- **Discounting (D):** Adjusts frequency counts to improve probability estimates.\n",
    "- **P_continuation:** Measures how often a word appears in different contexts.\n",
    "- **Alpha function:** Balances between higher-order and lower-order probabilities.\n",
    "\n",
    "The `p_kn_bigram(w1, w2)` function applies this smoothing technique for bigrams.\n"
   ]
  },
  {
   "cell_type": "code",
   "execution_count": 282,
   "metadata": {},
   "outputs": [],
   "source": [
    "from collections import defaultdict\n",
    "\n",
    "\n",
    "D = 0.85\n",
    "\n",
    "\n",
    "distinct_left_contexts = defaultdict(set)\n",
    "for (w1, w2), count in bigram_counts.items():\n",
    "    if count > 0:\n",
    "        distinct_left_contexts[w2].add(w1)\n",
    "\n",
    "continuation_count = {w: len(distinct_left_contexts[w]) for w in distinct_left_contexts}\n",
    "\n",
    "prefix_count_2 = {}\n",
    "prefix_bigrams_nonzero = {}\n",
    "\n",
    "for (w1, w2), count in bigram_counts.items():\n",
    "    prefix_count_2[w1] = prefix_count_2.get(w1, 0) + count\n",
    "    if count > 0:\n",
    "        prefix_bigrams_nonzero[w1] = prefix_bigrams_nonzero.get(w1, 0) + 1\n",
    "\n",
    "num_bigram_types = sum(1 for (w1, w2), c in bigram_counts.items() if c>0)\n",
    "\n",
    "\n",
    "\n",
    "def alpha_bigram(w1):\n",
    "    \"\"\"\n",
    "    Normalization factor for bigram prefix w1.\n",
    "    \"\"\"\n",
    "    # number of bigrams with prefix w1 that have freq>0\n",
    "    unique_continuations = prefix_bigrams_nonzero.get(w1, 0)\n",
    "    total_count_prefix = prefix_count_2.get(w1, 0)\n",
    "    \n",
    "    if total_count_prefix == 0:\n",
    "        return 0.0\n",
    "    \n",
    "    return (D * unique_continuations) / total_count_prefix\n",
    "\n",
    "def p_continuation(w):\n",
    "    \"\"\"\n",
    "    Kneser–Ney continuation probability for w.\n",
    "    p_continuation(w) = distinct_left_contexts[w] / num_bigram_types\n",
    "    \"\"\"\n",
    "    c = continuation_count.get(w, 0)\n",
    "    return c / num_bigram_types if num_bigram_types > 0 else 0.0\n",
    "\n",
    "def p_kn_bigram(w1, w2):\n",
    "    \"\"\"\n",
    "    Basic bigram Kneser–Ney:\n",
    "    P(w2 | w1) = [max{c(w1,w2)-D,0} / sum_{u} c(w1,u)] + alpha(w1)*p_continuation(w2)\n",
    "    \"\"\"\n",
    "    count_bigram = bigram_counts.get((w1, w2), 0)\n",
    "    prefix_total = prefix_count_2.get(w1, 0)\n",
    "    \n",
    "    # Higher-order part:\n",
    "    numerator = max(count_bigram - D, 0)\n",
    "    if prefix_total > 0:\n",
    "        higher_order_term = numerator / prefix_total\n",
    "    else:\n",
    "        higher_order_term = 0.0\n",
    "    \n",
    "    # interpolation weight alpha\n",
    "    a = alpha_bigram(w1)\n",
    "    \n",
    "    cont = p_continuation(w2)\n",
    "    \n",
    "    return higher_order_term + a*cont"
   ]
  },
  {
   "cell_type": "markdown",
   "metadata": {},
   "source": [
    "### Kneser-Ney Smoothing for Trigrams\n",
    "The `p_kn_trigram(w1, w2, w3)` function extends the smoothing technique to trigrams:\n",
    "\n",
    "\n",
    "$P(w_3 | w_1, w_2) = \\frac{\\max(c(w_1, w_2, w_3) - D, 0)}{\\sum c(w_1, w_2, u)} + \\alpha(w_1, w_2) P_{KN}(w_2, w_3)$\n",
    "\n",
    "\n",
    "- Uses trigram counts but falls back to bigrams when needed.\n",
    "- The **alpha function** ensures smooth transition between different n-gram orders.\n"
   ]
  },
  {
   "cell_type": "code",
   "execution_count": 283,
   "metadata": {},
   "outputs": [],
   "source": [
    "prefix_count_3 = {}\n",
    "trigram_prefix_nonzero = {}\n",
    "\n",
    "for (w1, w2, w3), c in trigram_counts.items():\n",
    "    prefix = (w1, w2)\n",
    "    prefix_count_3[prefix] = prefix_count_3.get(prefix, 0) + c\n",
    "    if c > 0:\n",
    "        trigram_prefix_nonzero[prefix] = trigram_prefix_nonzero.get(prefix, 0) + 1\n",
    "\n",
    "def alpha_trigram(w1, w2, D=0.75):\n",
    "    prefix = (w1, w2)\n",
    "    # number of distinct w3 s.t. c(w1, w2, w3)>0\n",
    "    unique_continuations = trigram_prefix_nonzero.get(prefix, 0)\n",
    "    total_count_prefix = prefix_count_3.get(prefix, 0)\n",
    "    \n",
    "    if total_count_prefix == 0:\n",
    "        return 0.0\n",
    "    \n",
    "    return (D * unique_continuations) / total_count_prefix\n",
    "\n",
    "def p_kn_trigram(w1, w2, w3):\n",
    "    \"\"\"\n",
    "    Kneser–Ney trigram:\n",
    "    P(w3 | w1, w2) = [max{ c(w1,w2,w3)-D, 0 } / sum_u c(w1,w2,u)]\n",
    "                   + alpha(w1,w2) * p_kn_bigram(w2, w3)\n",
    "    \"\"\"\n",
    "    trigram = (w1, w2, w3)\n",
    "    c_tri = trigram_counts.get(trigram, 0)\n",
    "    prefix = (w1, w2)\n",
    "    total_prefix = prefix_count_3.get(prefix, 0)\n",
    "    \n",
    "    numerator = max(c_tri - D, 0)\n",
    "    if total_prefix > 0:\n",
    "        higher_order_term = numerator / total_prefix\n",
    "    else:\n",
    "        higher_order_term = 0.0\n",
    "    \n",
    "    # backoff to the KN bigram\n",
    "    a = alpha_trigram(w1, w2, D=D)\n",
    "    lower_order = p_kn_bigram(w2, w3)\n",
    "    \n",
    "    return higher_order_term + a*lower_order\n"
   ]
  },
  {
   "cell_type": "markdown",
   "metadata": {},
   "source": [
    "## Interpolated Trigram Probability Model\n",
    "The `interpolated_trigram` function combines different probability models:\n",
    "\n",
    "\n",
    "$P(w_3 | w_1, w_2) = \\lambda_3 P_{KN}(w_3 | w_1, w_2) + \\lambda_2 P_{KN}(w_3 | w_2) + \\lambda_1 P_{cont}(w_3)$\n",
    "\n",
    "where:\n",
    "- $ \\lambda_3, \\lambda_2, \\lambda_1 $ control the weight of different models.\n",
    "\n",
    "This interpolation allows for a robust n-gram language model.\n"
   ]
  },
  {
   "cell_type": "code",
   "execution_count": 284,
   "metadata": {},
   "outputs": [],
   "source": [
    "def interpolated_trigram(w1, w2, w3, lambda1=0.2, lambda2=0.3, lambda3=0.5):\n",
    "    \"\"\"\n",
    "    Returns the interpolated probability for w3 given up to 2-word context (w1,w2).\n",
    "    If context is shorter, we handle that below.\n",
    "    \"\"\"\n",
    "    p_tri = p_kn_trigram(w1, w2, w3)  # trigram\n",
    "    p_bi  = p_kn_bigram(w2, w3)       # bigram (the immediate context)\n",
    "    p_uni = p_continuation(w3)         # unigram\n",
    "    \n",
    "    return lambda3 * p_tri + lambda2 * p_bi + lambda1 * p_uni\n"
   ]
  },
  {
   "cell_type": "markdown",
   "metadata": {},
   "source": [
    "### Beam Search with Trigram Context\n",
    "This updated `beam_search_correct` function enhances spelling correction by:\n",
    "- Using **trigram context** to improve word prediction.\n",
    "- Applying **interpolated trigram probabilities** to balance between different n-gram orders.\n",
    "- Implementing **beam search** to explore the best correction paths.\n",
    "\n",
    "This technique ensures higher accuracy in real-world spelling correction tasks.\n"
   ]
  },
  {
   "cell_type": "code",
   "execution_count": 285,
   "metadata": {},
   "outputs": [],
   "source": [
    "import math\n",
    "\n",
    "def get_trigram_context(seq):\n",
    "    \"\"\"\n",
    "    Returns exactly 2 tokens of context for trigram use,\n",
    "    padding with <s> if seq has fewer than 2 tokens.\n",
    "    \"\"\"\n",
    "    needed = 2 - len(seq)\n",
    "    if needed > 0:\n",
    "        pad = [\"<s>\"] * needed\n",
    "        context = pad + seq\n",
    "    else:\n",
    "        context = seq\n",
    "    \n",
    "    return context[-2:]\n",
    "\n",
    "\n",
    "def beam_search_correct(token_list, beam_size=3, lambda1=0.2, lambda2=0.3, lambda3=0.5):\n",
    "    candidate_lists = []\n",
    "    for token in token_list:\n",
    "        if token in WORDS:\n",
    "            cands = [token]\n",
    "        else:\n",
    "            cands = candidates(token)\n",
    "            if not cands:\n",
    "                cands = [token]\n",
    "        candidate_lists.append(cands)\n",
    "\n",
    "    beam = [(0.0, [])]\n",
    "\n",
    "    for cands in candidate_lists:\n",
    "        new_beam = []\n",
    "        for (log_prob_so_far, seq_so_far) in beam:\n",
    "            context = get_trigram_context(seq_so_far) \n",
    "            w1, w2 = context\n",
    "            for cand in cands:\n",
    "                p = interpolated_trigram(w1, w2, cand, \n",
    "                                         lambda1=lambda1, \n",
    "                                         lambda2=lambda2, \n",
    "                                         lambda3=lambda3)\n",
    "                new_log_prob = log_prob_so_far + math.log(p + 1e-15)\n",
    "                new_seq = seq_so_far + [cand]\n",
    "                new_beam.append((new_log_prob, new_seq))\n",
    "        new_beam.sort(key=lambda x: x[0], reverse=True)\n",
    "        beam = new_beam[:beam_size]\n",
    "\n",
    "    return beam[0][1]\n",
    "\n"
   ]
  },
  {
   "cell_type": "markdown",
   "metadata": {},
   "source": [
    "### Evaluating the Final Model\n",
    "The `evaluate_solution(slice_size=SLICE_SIZE)` function tests the final spell-checking model.\n",
    "\n",
    "- Runs beam search with trigram probabilities on a test dataset.\n",
    "- Computes **Word Error Rate (WER)** to measure performance.\n",
    "- Reports the overall accuracy of the model.\n",
    "\n",
    "The results indicate how well the new approach improves spelling correction.\n"
   ]
  },
  {
   "cell_type": "code",
   "execution_count": 286,
   "metadata": {},
   "outputs": [
    {
     "name": "stderr",
     "output_type": "stream",
     "text": [
      "Beam search evaluation: 100%|██████████| 10000/10000 [09:21<00:00, 17.82it/s]"
     ]
    },
    {
     "name": "stdout",
     "output_type": "stream",
     "text": [
      "Average Accuracy over dataset: 0.7938186677211677\n"
     ]
    },
    {
     "name": "stderr",
     "output_type": "stream",
     "text": [
      "\n"
     ]
    },
    {
     "data": {
      "text/plain": [
       "0.7938186677211677"
      ]
     },
     "execution_count": 286,
     "metadata": {},
     "output_type": "execute_result"
    }
   ],
   "source": [
    "evaluate_solution(slice_size=SLICE_SIZE)"
   ]
  },
  {
   "cell_type": "markdown",
   "metadata": {},
   "source": [
    "### Conclusion:\n",
    "Achieving **79% accuracy** marks a significant improvement over the baseline. Additionally, this solution is **twice as fast**, further enhancing its practicality and efficiency."
   ]
  },
  {
   "cell_type": "markdown",
   "metadata": {},
   "source": [
    "# Deep Analysis of the Results  \n",
    "\n",
    "## **1. Baseline: Classical Norvig Approach**\n",
    "- **Accuracy:** 70%  \n",
    "- **Speed:** Slow  \n",
    "\n",
    "The classical Norvig spell-checker relies on:\n",
    "1. **Word frequency models** to determine the most likely correction.\n",
    "2. **Simple edit-distance-based candidate generation** (inserting, deleting, replacing, or transposing letters).\n",
    "3. **Probability estimation** using word counts from a corpus.\n",
    "\n",
    "### **Why is it limited?**\n",
    "- **Context-Free:** It treats each word independently, ignoring the sentence context.\n",
    "- **Limited Correction Scope:** The edit distance approach can sometimes miss phonetically similar words or words that require multiple edits.\n",
    "- **Computationally Expensive:** Checking all possible edits and computing probabilities is slow for large datasets.\n",
    "\n",
    "---\n",
    "\n",
    "## **2. N-grams (up to 5) + Add-One Smoothing + Beam Search**\n",
    "- **Accuracy:** 73%  \n",
    "- **Speed:** 2× faster than baseline  \n",
    "\n",
    "### **What Changed?**\n",
    "1. **Incorporating N-grams (up to 5-grams)**  \n",
    "   - Instead of treating each word in isolation, this model considers its neighboring words.\n",
    "   - Higher-order n-grams (up to 5) allow the model to make context-aware corrections.\n",
    "   \n",
    "2. **Add-One (Laplace) Smoothing**  \n",
    "   - Ensures that unseen word sequences get a small nonzero probability.\n",
    "   - Helps generalize better but can introduce bias, as it doesn’t distinguish between frequent and rare sequences effectively.\n",
    "\n",
    "3. **Beam Search**  \n",
    "   - Instead of considering only the highest-probability word at each step, it keeps multiple candidate sequences and selects the best correction.\n",
    "   - Reduces errors in longer sentences by maintaining contextual consistency.\n",
    "\n",
    "### **Why is it better than the baseline?**\n",
    "**Context Awareness**: The use of n-grams allows the model to understand which words are likely to appear together.  \n",
    "**Higher Accuracy (74%)**: This method captures more word relationships, improving correction quality.  \n",
    "**Faster (2× the baseline speed)**: Beam search efficiently prunes unpromising candidates, reducing unnecessary computations.\n",
    "\n",
    "###  **Why is it still limited?**\n",
    "**High-order N-grams Are Data-Hungry**: Using 4-grams or 5-grams requires a massive dataset to provide reliable probabilities.  \n",
    "**Add-One Smoothing Is Too Simple**: It doesn’t effectively model word distributions and gives equal weight to rare and frequent words.\n",
    "\n",
    "---\n",
    "\n",
    "## **3. N-grams (Trigram) + Kneser-Ney Smoothing + Interpolation + Beam Search**\n",
    "- **Accuracy:** 79%  \n",
    "- **Speed:** 2× faster than baseline  \n",
    "\n",
    "### **What Changed?**\n",
    "1. **Using Trigrams Instead of Higher N-grams**  \n",
    "   - While the previous model used up to 5-grams, this approach restricts itself to **trigrams**.\n",
    "   - **Why?** Trigrams provide a balance between **context-awareness** and **data efficiency**. Using higher-order n-grams (4 or 5) introduces sparsity issues, requiring more data for reliable estimates.\n",
    "\n",
    "2. **Kneser-Ney Smoothing**  \n",
    "   - Instead of just adjusting counts like Add-One smoothing, **Kneser-Ney** considers how often a word appears in different contexts.  \n",
    "   - Example:  \n",
    "     - \"New York\" is common, so \"York\" should have a high probability when preceded by \"New\" even if \"York\" itself isn't frequent.\n",
    "     - This makes it **better at handling rare words and unseen n-grams**.\n",
    "\n",
    "3. **Interpolation**  \n",
    "   - Instead of relying purely on trigram probabilities, the model **blends unigram, bigram, and trigram probabilities**.\n",
    "   - Helps when the trigram is missing, falling back on bigram or unigram data.\n",
    "\n",
    "4. **Beam Search for Sequence Correction**  \n",
    "   - Continues optimizing for best word sequence rather than choosing words in isolation.\n",
    "\n",
    "### **Why is it better than the previous approach?**\n",
    "**Context-Aware Yet Efficient**: Trigrams provide enough context without suffering from data sparsity.  \n",
    "**Better Generalization**: Kneser-Ney smoothing ensures rare and unseen word combinations are handled more effectively.  \n",
    "**Highest Accuracy (80%)**: The combination of interpolation and Kneser-Ney provides the best probability estimates.  \n",
    "**Still Fast (2× the baseline speed)**: Beam search optimizations keep speed high while improving accuracy.\n",
    "\n",
    "\n",
    "## **Final Comparison Table:**\n",
    "| **Model** | **Accuracy** | **Speed** | **Pros** | **Cons** |\n",
    "|-----------|-------------|-----------|----------|----------|\n",
    "| **Baseline (Norvig)** | 70% | Slow | Simple, frequency-based | No context awareness, slow |\n",
    "| **N-grams (5) + Add-One + Beam Search** | 74% | 2× faster | Context-aware, faster, better corrections | Requires large corpus, Add-One smoothing is naive |\n",
    "| **N-grams (3) + Kneser-Ney + Interpolation + Beam Search** | **80%** | **2× faster** | Best accuracy, efficient, handles unseen words well | Still dependent on training corpus quality |\n"
   ]
  },
  {
   "cell_type": "markdown",
   "metadata": {},
   "source": []
  }
 ],
 "metadata": {
  "kernelspec": {
   "display_name": ".venv",
   "language": "python",
   "name": "python3"
  },
  "language_info": {
   "codemirror_mode": {
    "name": "ipython",
    "version": 3
   },
   "file_extension": ".py",
   "mimetype": "text/x-python",
   "name": "python",
   "nbconvert_exporter": "python",
   "pygments_lexer": "ipython3",
   "version": "3.13.1"
  }
 },
 "nbformat": 4,
 "nbformat_minor": 2
}
